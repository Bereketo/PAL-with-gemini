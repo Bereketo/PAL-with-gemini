{
 "cells": [
  {
   "cell_type": "markdown",
   "metadata": {},
   "source": [
    "## 1. Imports and API Key Setup\n",
    "In this first cell, we import the necessary libraries, including Google's generative AI and some utility libraries. \n",
    "We also check whether the environment variable `GEMINI_API_KEY` is set.\n"
   ]
  },
  {
   "cell_type": "code",
   "execution_count": 8,
   "metadata": {},
   "outputs": [],
   "source": [
    "import os\n",
    "import google.generativeai as genai\n",
    "from IPython.display import display, Markdown\n",
    "import re\n",
    "\n",
    "\n",
    "Gemini_key = os.getenv('GEMINI_API_KEY')  \n",
    "\n",
    "if not Gemini_key:\n",
    "    raise ValueError(\"API_KEY not set\")\n"
   ]
  },
  {
   "cell_type": "markdown",
   "metadata": {},
   "source": [
    "## 2. Model Configuration\n",
    "Here we configure the Generative AI model using the API key that was fetched in the previous step.\n"
   ]
  },
  {
   "cell_type": "code",
   "execution_count": 13,
   "metadata": {},
   "outputs": [],
   "source": [
    "\n",
    "genai.configure(api_key=Gemini_key)\n",
    "model = genai.GenerativeModel('gemini-1.5-flash-latest')\n",
    "\n"
   ]
  },
  {
   "cell_type": "markdown",
   "metadata": {},
   "source": [
    "## 3. Define the Prompt and Handle User Input\n",
    "We define a default prompt and also allow a flexibility for the user to define the input. If the user doesn’t enter any prompt, the default prompt is used instead.\n"
   ]
  },
  {
   "cell_type": "code",
   "execution_count": 10,
   "metadata": {},
   "outputs": [],
   "source": [
    "\n",
    "default_prompt = \"\"\"Liam spent the morning on three tasks:\n",
    "\n",
    "He worked on a project for 2 hours and 15 minutes.\n",
    "After a 25-minute break, he reviewed his emails for 45 minutes.\n",
    "Then, he attended a 1-hour 30-minute meeting.\n",
    "In the afternoon, he:\n",
    "\n",
    "Spent 1 hour 45 minutes writing a report.\n",
    "Took a 20-minute coffee break and then worked for another 2 hours.\n",
    "How much time did Liam spend working in total?\"\"\" + \" generate a python code to solve the problem\"\n",
    "\n",
    "user_prompt = input(\"Enter your prompt: \")\n",
    "user_prompt\n",
    "\n",
    "if not user_prompt:\n",
    "    prompt = default_prompt\n",
    "else:\n",
    "    prompt = user_prompt + \" generate a python code to solve the problem\"\n"
   ]
  },
  {
   "cell_type": "markdown",
   "metadata": {},
   "source": [
    "## 4. Generate Response from Gemini\n",
    "We send the prompt (either default or user-provided) to the model and capture the response.\n"
   ]
  },
  {
   "cell_type": "code",
   "execution_count": 14,
   "metadata": {},
   "outputs": [
    {
     "name": "stdout",
     "output_type": "stream",
     "text": [
      "Response from Gemini:\n",
      "```python\n",
      "# Morning work time\n",
      "project_time_hours = 2\n",
      "project_time_minutes = 15\n",
      "project_total_minutes = (project_time_hours * 60) + project_time_minutes\n",
      "\n",
      "email_time_minutes = 45\n",
      "\n",
      "meeting_time_hours = 1\n",
      "meeting_time_minutes = 30\n",
      "meeting_total_minutes = (meeting_time_hours * 60) + meeting_time_minutes\n",
      "\n",
      "morning_work_time = project_total_minutes + email_time_minutes + meeting_total_minutes\n",
      "\n",
      "# Afternoon work time\n",
      "report_time_hours = 1\n",
      "report_time_minutes = 45\n",
      "report_total_minutes = (report_time_hours * 60) + report_time_minutes\n",
      "\n",
      "afternoon_work_time = report_total_minutes + (2 * 60)  # 2 hours * 60 minutes\n",
      "\n",
      "# Total work time\n",
      "total_work_time = morning_work_time + afternoon_work_time\n",
      "\n",
      "# Convert total work time to hours and minutes\n",
      "total_work_hours = total_work_time // 60\n",
      "total_work_minutes = total_work_time % 60\n",
      "\n",
      "print(\"Liam spent a total of\", total_work_hours, \"hours and\", total_work_minutes, \"minutes working.\")\n",
      "```\n",
      "\n"
     ]
    }
   ],
   "source": [
    "\n",
    "response = model.generate_content(prompt)\n",
    "response_text = response.text\n",
    "\n",
    "print(\"Response from Gemini:\")\n",
    "print(response_text)\n"
   ]
  },
  {
   "cell_type": "markdown",
   "metadata": {},
   "source": [
    "## 5. Extract and Execute Generated Code\n",
    "We use regular expressions to extract the Python code from the response and then execute it. If there’s an error during execution, it will be caught and displayed.\n"
   ]
  },
  {
   "cell_type": "code",
   "execution_count": 15,
   "metadata": {},
   "outputs": [
    {
     "data": {
      "text/markdown": [
       "### Generated Python code:"
      ],
      "text/plain": [
       "<IPython.core.display.Markdown object>"
      ]
     },
     "metadata": {},
     "output_type": "display_data"
    },
    {
     "data": {
      "text/markdown": [
       "```python\n",
       "# Morning work time\n",
       "project_time_hours = 2\n",
       "project_time_minutes = 15\n",
       "project_total_minutes = (project_time_hours * 60) + project_time_minutes\n",
       "\n",
       "email_time_minutes = 45\n",
       "\n",
       "meeting_time_hours = 1\n",
       "meeting_time_minutes = 30\n",
       "meeting_total_minutes = (meeting_time_hours * 60) + meeting_time_minutes\n",
       "\n",
       "morning_work_time = project_total_minutes + email_time_minutes + meeting_total_minutes\n",
       "\n",
       "# Afternoon work time\n",
       "report_time_hours = 1\n",
       "report_time_minutes = 45\n",
       "report_total_minutes = (report_time_hours * 60) + report_time_minutes\n",
       "\n",
       "afternoon_work_time = report_total_minutes + (2 * 60)  # 2 hours * 60 minutes\n",
       "\n",
       "# Total work time\n",
       "total_work_time = morning_work_time + afternoon_work_time\n",
       "\n",
       "# Convert total work time to hours and minutes\n",
       "total_work_hours = total_work_time // 60\n",
       "total_work_minutes = total_work_time % 60\n",
       "\n",
       "print(\"Liam spent a total of\", total_work_hours, \"hours and\", total_work_minutes, \"minutes working.\")\n",
       "```"
      ],
      "text/plain": [
       "<IPython.core.display.Markdown object>"
      ]
     },
     "metadata": {},
     "output_type": "display_data"
    },
    {
     "name": "stdout",
     "output_type": "stream",
     "text": [
      "Executing the generated code...\n",
      "Liam spent a total of 8 hours and 15 minutes working.\n"
     ]
    }
   ],
   "source": [
    "# Extract code from the response\n",
    "code_pattern = r'```(.*?)```'\n",
    "code_matches = re.findall(code_pattern, response_text, re.DOTALL)\n",
    "\n",
    "if code_matches:\n",
    "    generated_code = code_matches[0].strip()\n",
    "    \n",
    "    # Clean the code to remove any 'python' identifier\n",
    "    cleaned_code = re.sub(r'^\\s*python\\s*$', '', generated_code, flags=re.MULTILINE).strip()\n",
    "\n",
    "    display(Markdown(\"### Generated Python code:\"))\n",
    "    display(Markdown(f\"```python\\n{cleaned_code}\\n```\"))\n",
    "\n",
    "    print(\"Executing the generated code...\")\n",
    "    \n",
    "    # executing the code\n",
    "    try:\n",
    "        exec(cleaned_code)\n",
    "    except Exception as e:\n",
    "        print(f\"Error during execution: {e}\")\n",
    "else:\n",
    "    print(\"No valid code block found\")\n"
   ]
  },
  {
   "cell_type": "markdown",
   "metadata": {},
   "source": [
    "## Final thoughts\n",
    "As we have seen above the `Genereated code` is executed in the python interpreter and the result is \n",
    "displayed.\n",
    "using PAL makes the model to read the natural language problems and generates programs as intermediate result as we have seen earlier. the reasoing steps, but offloads the solution step to a runtime Python interpreter and the code is executed which makes the model to perform better on logical and mathmatical problems.\n",
    "\n"
   ]
  },
  {
   "cell_type": "markdown",
   "metadata": {},
   "source": []
  }
 ],
 "metadata": {
  "kernelspec": {
   "display_name": "Python 3",
   "language": "python",
   "name": "python3"
  },
  "language_info": {
   "codemirror_mode": {
    "name": "ipython",
    "version": 3
   },
   "file_extension": ".py",
   "mimetype": "text/x-python",
   "name": "python",
   "nbconvert_exporter": "python",
   "pygments_lexer": "ipython3",
   "version": "3.11.8"
  }
 },
 "nbformat": 4,
 "nbformat_minor": 2
}
