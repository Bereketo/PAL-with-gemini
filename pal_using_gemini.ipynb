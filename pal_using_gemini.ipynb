{
 "cells": [
  {
   "cell_type": "code",
   "execution_count": 16,
   "metadata": {},
   "outputs": [
    {
     "name": "stdout",
     "output_type": "stream",
     "text": [
      "Response from Gemini\n",
      "```python\n",
      "result = 2 + 2\n",
      "print(result) \n",
      "```\n",
      "\n",
      "This code does the following:\n",
      "\n",
      "1. **`result = 2 + 2`**: This line performs the addition operation. The sum of 2 and 2 is calculated and stored in the variable `result`.\n",
      "2. **`print(result)`**: This line displays the value stored in the `result` variable, which is 4. \n",
      "\n",
      "When you run this code, it will output:\n",
      "\n",
      "```\n",
      "4\n",
      "``` \n",
      "\n"
     ]
    },
    {
     "data": {
      "text/markdown": [
       "### Generated python code:"
      ],
      "text/plain": [
       "<IPython.core.display.Markdown object>"
      ]
     },
     "metadata": {},
     "output_type": "display_data"
    },
    {
     "data": {
      "text/markdown": [
       "```python\n",
       "import numpy as np\n",
       "from scipy.optimize import minimize\n",
       "\n",
       "# Stock data\n",
       "prices = np.array([200, 150, 300, 250, 100])\n",
       "returns = np.array([0.07, 0.05, 0.10, 0.06, 0.04])\n",
       "\n",
       "# Budget and maximum allocation per stock\n",
       "budget = 100000\n",
       "max_allocation = 0.3 * budget\n",
       "\n",
       "# Define the objective function (maximize total expected return)\n",
       "def objective_function(x):\n",
       "  return -np.dot(x, returns)  # Minimize the negative of expected return\n",
       "\n",
       "# Define the constraints\n",
       "constraints = (\n",
       "    {'type': 'eq', 'fun': lambda x: np.dot(x, prices) - budget},  # Total investment equals budget\n",
       "    {'type': 'ineq', 'fun': lambda x: max_allocation - x},  # Allocation per stock <= max_allocation\n",
       ")\n",
       "\n",
       "# Define the bounds (number of shares must be non-negative)\n",
       "bounds = [(0, None) for _ in range(len(prices))]\n",
       "\n",
       "# Initial guess for the number of shares (equal allocation)\n",
       "initial_guess = np.array([budget / len(prices)] * len(prices))\n",
       "\n",
       "# Solve the optimization problem\n",
       "result = minimize(objective_function, initial_guess, bounds=bounds, constraints=constraints)\n",
       "\n",
       "# Extract the optimal allocation\n",
       "optimal_allocation = result.x\n",
       "\n",
       "# Calculate the expected return\n",
       "expected_return = -result.fun\n",
       "\n",
       "# Print the results\n",
       "print(\"Optimal Allocation:\")\n",
       "for i, stock in enumerate(\n",
       "    [\"Stock A\", \"Stock B\", \"Stock C\", \"Stock D\", \"Stock E\"]\n",
       "):\n",
       "  print(f\"{stock}: {int(optimal_allocation[i])} shares\")\n",
       "\n",
       "print(\n",
       "    f\"\\nTotal Expected Return: {expected_return * 100:.2f}%\"\n",
       ")\n",
       "```"
      ],
      "text/plain": [
       "<IPython.core.display.Markdown object>"
      ]
     },
     "metadata": {},
     "output_type": "display_data"
    },
    {
     "name": "stdout",
     "output_type": "stream",
     "text": [
      "Exeuting the generated code\n",
      "Optimal Allocation:\n",
      "Stock A: 0 shares\n",
      "Stock B: 0 shares\n",
      "Stock C: 0 shares\n",
      "Stock D: 0 shares\n",
      "Stock E: 1000 shares\n",
      "\n",
      "Total Expected Return: 4000.00%\n"
     ]
    }
   ],
   "source": [
    "import os\n",
    "import google.generativeai as genai\n",
    "from IPython.display import display, Markdown\n",
    "import re\n",
    "# Ensure your API key is set\n",
    "Gemini_key = os.getenv('GEMINI_API_KEY')  # Fetch the API key from the environment variable\n",
    "\n",
    "if not Gemini_key:\n",
    "    raise ValueError(\"API_KEY not set\")\n",
    "    \n",
    "# Configure the generative AI model\n",
    "genai.configure(api_key=Gemini_key)\n",
    "model = genai.GenerativeModel('gemini-1.5-flash-latest')\n",
    "\n",
    "# Define your problem prompt\n",
    "\"\"\"\n",
    "prompt = \\\"\"\"\n",
    "I have a budget of $100,000 to invest in five stocks. The stocks have different prices and expected returns: \n",
    "Stock A is priced at $200 per share with an expected return of 7%, Stock B at $150 with a 5% return, \n",
    "Stock C at $300 with a 10% return, Stock D at $250 with a 6% return, and Stock E at $100 with a 4% return. \n",
    "I want to maximize my expected return while ensuring that no more than 30% of my total investment is in any one stock. \n",
    "Generate Python code that solves this optimization problem, and return the optimal allocation of shares to buy \n",
    "for each stock and the total expected return.\n",
    "\\\"\"\"\n",
    "\"\"\"\n",
    "prompt = \"what is 2 + 2\" + \" generate a python code that solves this problem\"\n",
    "response = model.generate_content(prompt)\n",
    "response_text = response.text\n",
    "\n",
    "print(\"Response from Gemini\")\n",
    "print(response_text)\n",
    "\n",
    "code_pattern = r'```(.*?)```'\n",
    "code_matches = re.findall(code_pattern, response_text, re.DOTALL)\n",
    "\n",
    "if code_matches:\n",
    "    generated_code = code_matches[0].strip()\n",
    "    cleaned_code = re.sub(r'^\\s*python\\s*$', '', generated_code, flags=re.MULTILINE).strip()\n",
    "\n",
    "    display(Markdown(\"### Generated python code:\"))\n",
    "    display(Markdown(f\"```python\\n{cleaned_code}\\n```\"))\n",
    "\n",
    "    print(\"Exeuting the generated code\")\n",
    "    \n",
    "    try:\n",
    "        exec(cleaned_code)\n",
    "    except Exception as e:\n",
    "        print(f\"Error duirng execution: {e}\")\n",
    "\n",
    "else:\n",
    "    print(\"No valid code block\")\n",
    "\n"
   ]
  },
  {
   "cell_type": "code",
   "execution_count": null,
   "metadata": {},
   "outputs": [],
   "source": []
  }
 ],
 "metadata": {
  "kernelspec": {
   "display_name": "Python 3",
   "language": "python",
   "name": "python3"
  },
  "language_info": {
   "codemirror_mode": {
    "name": "ipython",
    "version": 3
   },
   "file_extension": ".py",
   "mimetype": "text/x-python",
   "name": "python",
   "nbconvert_exporter": "python",
   "pygments_lexer": "ipython3",
   "version": "3.11.8"
  }
 },
 "nbformat": 4,
 "nbformat_minor": 2
}
